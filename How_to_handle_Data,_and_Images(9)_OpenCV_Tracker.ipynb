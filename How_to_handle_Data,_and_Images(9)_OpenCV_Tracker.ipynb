{
  "nbformat": 4,
  "nbformat_minor": 0,
  "metadata": {
    "colab": {
      "provenance": [],
      "authorship_tag": "ABX9TyOg9QIgiJNocei7srupTwLy",
      "include_colab_link": true
    },
    "kernelspec": {
      "name": "python3",
      "display_name": "Python 3"
    },
    "language_info": {
      "name": "python"
    }
  },
  "cells": [
    {
      "cell_type": "markdown",
      "metadata": {
        "id": "view-in-github",
        "colab_type": "text"
      },
      "source": [
        "<a href=\"https://colab.research.google.com/github/hyeonukim/DataProcessing_ImageHandling/blob/main/How_to_handle_Data%2C_and_Images(9)_OpenCV_Tracker.ipynb\" target=\"_parent\"><img src=\"https://colab.research.google.com/assets/colab-badge.svg\" alt=\"Open In Colab\"/></a>"
      ]
    },
    {
      "cell_type": "markdown",
      "source": [
        "## OpenCV Tracker\n",
        "\n",
        "**cv2.createTrackbar(track_bar, name, window_name, value, count, on_change)**: Creates trackbar (a slider or range control) with the specified name and range, assigns a variable value to be a position synchronized with the trackbar and specifies the callback function onChange to be called on the trackbar position change.\n",
        "  - value: pointer to an integer variable whose value reflects the position of the slider.\n",
        "  - count: Maximal position of the slider.\n",
        "  - on_Change: Pointer to the function to be called every time the slider changes position.\n",
        "\n",
        "**cv2.getTrackbarPos(track_bar, name, window_name)**: The function returns the current position of the specified trackbar.\n"
      ],
      "metadata": {
        "id": "DW4lsIZT237e"
      }
    },
    {
      "cell_type": "code",
      "source": [
        "import cv2\n",
        "import numpy as np\n",
        "\n",
        "def change_color(x):\n",
        "  r = cv2.getTrackbarPos(\"R\", \"Image\")\n",
        "  g = cv2.getTrackbarPos(\"G\", \"Image\")\n",
        "  b = cv2.getTrackbarPos(\"B\", \"Image\")\n",
        "\n",
        "  image[:] = [b,g,r]\n",
        "  cv2.imshow(\"Image\", image)\n",
        "\n",
        "image = np.zeros((600, 400, 3), np.uint8)\n",
        "cv2.namedWindow(\"Image\")\n",
        "\n",
        "cv2.createTrackbar(\"R\", \"Image\", 0, 255, change_color)\n",
        "cv2.createTrackbar(\"G\", \"Image\", 0, 255, change_color)\n",
        "cv2.createTrackbar(\"B\", \"Image\", 0, 255, change_color)\n",
        "\n",
        "cv2.imshow(\"Image\", image)\n",
        "cv2.waitKey(0)"
      ],
      "metadata": {
        "id": "TYS3U4vz3Xll"
      },
      "execution_count": null,
      "outputs": []
    },
    {
      "cell_type": "code",
      "source": [],
      "metadata": {
        "id": "IAypq52O4gbY"
      },
      "execution_count": null,
      "outputs": []
    }
  ]
}