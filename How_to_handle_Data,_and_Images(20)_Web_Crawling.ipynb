{
  "nbformat": 4,
  "nbformat_minor": 0,
  "metadata": {
    "colab": {
      "provenance": [],
      "authorship_tag": "ABX9TyPUeUnWRj9L4w3UTJY3An9d",
      "include_colab_link": true
    },
    "kernelspec": {
      "name": "python3",
      "display_name": "Python 3"
    },
    "language_info": {
      "name": "python"
    }
  },
  "cells": [
    {
      "cell_type": "markdown",
      "metadata": {
        "id": "view-in-github",
        "colab_type": "text"
      },
      "source": [
        "<a href=\"https://colab.research.google.com/github/hyeonukim/DataProcessing_ImageHandling/blob/main/How_to_handle_Data%2C_and_Images(20)_Web_Crawling.ipynb\" target=\"_parent\"><img src=\"https://colab.research.google.com/assets/colab-badge.svg\" alt=\"Open In Colab\"/></a>"
      ]
    },
    {
      "cell_type": "markdown",
      "source": [
        "## Web Crawler\n",
        "- Web Crawling is an automated method to retrieve data\n",
        "- Can get needed information from any service\n",
        "- Usually used with Python"
      ],
      "metadata": {
        "id": "r5DKsMRGeoqc"
      }
    },
    {
      "cell_type": "markdown",
      "source": [
        "## Getting HTML code from specific website (1)"
      ],
      "metadata": {
        "id": "VqMo2AoafESv"
      }
    },
    {
      "cell_type": "code",
      "source": [
        "import requests\n",
        "\n",
        "# make a request on specific URL\n",
        "request = requests.get('https://hyeonukim.github.io/devblog/')\n",
        "\n",
        "# after connecting, get website's source code\n",
        "html = request.text.strip()\n",
        "\n",
        "print(html)"
      ],
      "metadata": {
        "colab": {
          "base_uri": "https://localhost:8080/"
        },
        "id": "65p-w3Z2e-M5",
        "outputId": "92880957-1538-4401-ebc9-9d214d8e1a99"
      },
      "execution_count": 2,
      "outputs": [
        {
          "output_type": "stream",
          "name": "stdout",
          "text": [
            "<!doctype html><html lang=\"en\" data-mode=\"light\"><head><meta http-equiv=\"Content-Type\" content=\"text/html; charset=UTF-8\"><meta name=\"theme-color\" media=\"(prefers-color-scheme: light)\" content=\"#f7f7f7\"><meta name=\"theme-color\" media=\"(prefers-color-scheme: dark)\" content=\"#1b1b1e\"><meta name=\"mobile-web-app-capable\" content=\"yes\"><meta name=\"apple-mobile-web-app-status-bar-style\" content=\"black-translucent\"><meta name=\"viewport\" content=\"width=device-width, user-scalable=no initial-scale=1, shrink-to-fit=no, viewport-fit=cover\" ><meta name=\"generator\" content=\"Jekyll v4.3.4\" /><meta property=\"og:title\" content=\"Hyeonu(Eric) Kim\" /><meta property=\"og:locale\" content=\"en\" /><meta name=\"description\" content=\"A minimal, portfolio, game development, algorithm analysis, computer visio Jekyll theme with responsive web design and focuses on dev blog.\" /><meta property=\"og:description\" content=\"A minimal, portfolio, game development, algorithm analysis, computer visio Jekyll theme with responsive web design and focuses on dev blog.\" /><link rel=\"canonical\" href=\"https://hyeonukim.github.io/devblog/\" /><meta property=\"og:url\" content=\"https://hyeonukim.github.io/devblog/\" /><meta property=\"og:site_name\" content=\"Hyeonu(Eric) Kim\" /><meta property=\"og:type\" content=\"website\" /><link rel=\"next\" href=\"https://hyeonukim.github.io/devblog/page2\" /><meta name=\"twitter:card\" content=\"summary\" /><meta property=\"twitter:title\" content=\"Hyeonu(Eric) Kim\" /> <script type=\"application/ld+json\"> {\"@context\":\"https://schema.org\",\"@type\":\"WebSite\",\"description\":\"A minimal, portfolio, game development, algorithm analysis, computer visio Jekyll theme with responsive web design and focuses on dev blog.\",\"headline\":\"Hyeonu(Eric) Kim\",\"name\":\"Hyeonu(Eric) Kim\",\"sameAs\":[\"https://github.com/hyeonukim\",\"https://www.linkedin.com/in/eric-kim-0877a0278/\"],\"url\":\"https://hyeonukim.github.io/devblog/\"}</script><title>Hyeonu(Eric) Kim</title><link rel=\"apple-touch-icon\" sizes=\"180x180\" href=\"/devblog/assets/img/favicons/apple-touch-icon.png\"><link rel=\"icon\" type=\"image/png\" sizes=\"48x48\" href=\"/devblog/assets/img/favicons/favicon-48x48.png\"><link rel=\"manifest\" href=\"/devblog/assets/img/favicons/site.webmanifest\"><link rel=\"shortcut icon\" href=\"/devblog/assets/img/favicons/favicon.ico\"><meta name=\"apple-mobile-web-app-title\" content=\"Hyeonu(Eric) Kim\"><meta name=\"application-name\" content=\"Hyeonu(Eric) Kim\"><meta name=\"msapplication-TileColor\" content=\"#da532c\"><meta name=\"msapplication-config\" content=\"/devblog/assets/img/favicons/browserconfig.xml\"><meta name=\"theme-color\" content=\"#ffffff\"><link rel=\"stylesheet\" href=\"/devblog/assets/css/jekyll-theme-chirpy.css\"><link rel=\"stylesheet\" href=\"https://fonts.googleapis.com/css2?family=Lato:wght@300;400&family=Source+Sans+Pro:wght@400;600;700;900&display=swap\"><link rel=\"stylesheet\" href=\"https://cdn.jsdelivr.net/npm/@fortawesome/fontawesome-free@6.6.0/css/all.min.css\"><link rel=\"stylesheet\" href=\"https://cdn.jsdelivr.net/npm/loading-attribute-polyfill@2.1.1/dist/loading-attribute-polyfill.min.css\"><body><aside aria-label=\"Sidebar\" id=\"sidebar\" class=\"d-flex flex-column align-items-end\"><header class=\"profile-wrapper\"> <a href=\"/devblog/\" id=\"avatar\" class=\"rounded-circle\"><img src=\"/devblog/assets/img/asdf.jpg\" width=\"112\" height=\"112\" alt=\"avatar\" onerror=\"this.style.display='none'\"></a> <a class=\"site-title d-block\" href=\"/devblog/\">Hyeonu(Eric) Kim</a><p class=\"site-subtitle fst-italic mb-0\">A canvas where I do my work</p></header><nav class=\"flex-column flex-grow-1 w-100 ps-0\"><ul class=\"nav\"><li class=\"nav-item active\"> <a href=\"/devblog/\" class=\"nav-link\"> <i class=\"fa-fw fas fa-home\"></i> <span>HOME</span> </a><li class=\"nav-item\"> <a href=\"/devblog/categories/\" class=\"nav-link\"> <i class=\"fa-fw fas fa-stream\"></i> <span>CATEGORIES</span> </a><li class=\"nav-item\"> <a href=\"/devblog/tags/\" class=\"nav-link\"> <i class=\"fa-fw fas fa-tags\"></i> <span>TAGS</span> </a><li class=\"nav-item\"> <a href=\"/devblog/archives/\" class=\"nav-link\"> <i class=\"fa-fw fas fa-archive\"></i> <span>ARCHIVES</span> </a><li class=\"nav-item\"> <a href=\"/devblog/about/\" class=\"nav-link\"> <i class=\"fa-fw fas fa-info-circle\"></i> <span>ABOUT</span> </a></ul></nav><div class=\"sidebar-bottom d-flex flex-wrap align-items-center w-100\"> <a href=\"https://github.com/hyeonukim\" aria-label=\"github\" target=\"_blank\" rel=\"noopener noreferrer\" > <i class=\"fab fa-github\"></i> </a> <a href=\"javascript:location.href = 'mailto:' + ['hyeonuerickim1999','gmail.com'].join('@')\" aria-label=\"email\" > <i class=\"fas fa-envelope\"></i> </a></div></aside><div id=\"main-wrapper\" class=\"d-flex justify-content-center\"><div class=\"container d-flex flex-column px-xxl-5\"><header id=\"topbar-wrapper\" aria-label=\"Top Bar\"><div id=\"topbar\" class=\"d-flex align-items-center justify-content-between px-lg-3 h-100\" ><nav id=\"breadcrumb\" aria-label=\"Breadcrumb\"> <span>Home</span></nav><button type=\"button\" id=\"sidebar-trigger\" class=\"btn btn-link\"> <i class=\"fas fa-bars fa-fw\"></i> </button><div id=\"topbar-title\"> Hyeonu(Eric) Kim</div><button type=\"button\" id=\"search-trigger\" class=\"btn btn-link\"> <i class=\"fas fa-search fa-fw\"></i> </button> <search id=\"search\" class=\"align-items-center ms-3 ms-lg-0\"> <i class=\"fas fa-search fa-fw\"></i> <input class=\"form-control\" id=\"search-input\" type=\"search\" aria-label=\"search\" autocomplete=\"off\" placeholder=\"Search...\" > </search> <button type=\"button\" class=\"btn btn-link text-decoration-none\" id=\"search-cancel\">Cancel</button></div></header><div class=\"row flex-grow-1\"><main aria-label=\"Main Content\" class=\"col-12 col-lg-11 col-xl-9 px-md-4\"><div id=\"post-list\" class=\"flex-grow-1 px-xl-1\"><article class=\"card-wrapper card\"> <a href=\"/devblog/posts/Leetcode-167/\" class=\"post-preview row g-0 flex-md-row-reverse\"><div class=\"col-md-12\"><div class=\"card-body d-flex flex-column\"><h1 class=\"card-title my-2 mt-md-0\">Leetcode 167. Two Sum II - Input Array Is Sorted</h1><div class=\"card-text content mt-0 mb-3\"><p>Explanation for Leetcode 167 - Two Sum II - Input Array Is Sorted, and its solution in Python.</p></div><div class=\"post-meta flex-grow-1 d-flex align-items-end\"><div class=\"me-auto\"> <i class=\"far fa-calendar fa-fw me-1\"></i> <time data-ts=\"1737187200\" data-df=\"ll\" > Jan 18, 2025 </time> <i class=\"far fa-folder-open fa-fw me-1\"></i> <span class=\"categories\"> Leetcode, Two Pointers, Medium </span></div></div></div></div></a></article><article class=\"card-wrapper card\"> <a href=\"/devblog/posts/Leetcode-15/\" class=\"post-preview row g-0 flex-md-row-reverse\"><div class=\"col-md-12\"><div class=\"card-body d-flex flex-column\"><h1 class=\"card-title my-2 mt-md-0\">Leetcode 15. 3Sum</h1><div class=\"card-text content mt-0 mb-3\"><p>Explanation for Leetcode 15 - 3Sum, and its solution in Python.</p></div><div class=\"post-meta flex-grow-1 d-flex align-items-end\"><div class=\"me-auto\"> <i class=\"far fa-calendar fa-fw me-1\"></i> <time data-ts=\"1737187200\" data-df=\"ll\" > Jan 18, 2025 </time> <i class=\"far fa-folder-open fa-fw me-1\"></i> <span class=\"categories\"> Leetcode, Two Pointers, Medium </span></div></div></div></div></a></article><article class=\"card-wrapper card\"> <a href=\"/devblog/posts/Leetcode-36/\" class=\"post-preview row g-0 flex-md-row-reverse\"><div class=\"col-md-12\"><div class=\"card-body d-flex flex-column\"><h1 class=\"card-title my-2 mt-md-0\">Leetcode 36. Valid Sudoku</h1><div class=\"card-text content mt-0 mb-3\"><p>Explanation for Leetcode 36 - Valid Sudoku, and its solution in Python.</p></div><div class=\"post-meta flex-grow-1 d-flex align-items-end\"><div class=\"me-auto\"> <i class=\"far fa-calendar fa-fw me-1\"></i> <time data-ts=\"1737100800\" data-df=\"ll\" > Jan 17, 2025 </time> <i class=\"far fa-folder-open fa-fw me-1\"></i> <span class=\"categories\"> Leetcode, Arrays & Hashing, Medium </span></div></div></div></div></a></article><article class=\"card-wrapper card\"> <a href=\"/devblog/posts/Leetcode-238/\" class=\"post-preview row g-0 flex-md-row-reverse\"><div class=\"col-md-12\"><div class=\"card-body d-flex flex-column\"><h1 class=\"card-title my-2 mt-md-0\">Leetcode 238. Product of Array Except Self</h1><div class=\"card-text content mt-0 mb-3\"><p>Explanation for Leetcode 238 - Product of Array Except Self, and its solution in Python.</p></div><div class=\"post-meta flex-grow-1 d-flex align-items-end\"><div class=\"me-auto\"> <i class=\"far fa-calendar fa-fw me-1\"></i> <time data-ts=\"1737100800\" data-df=\"ll\" > Jan 17, 2025 </time> <i class=\"far fa-folder-open fa-fw me-1\"></i> <span class=\"categories\"> Leetcode, Arrays & Hashing, Medium </span></div></div></div></div></a></article><article class=\"card-wrapper card\"> <a href=\"/devblog/posts/Leetcode-128/\" class=\"post-preview row g-0 flex-md-row-reverse\"><div class=\"col-md-12\"><div class=\"card-body d-flex flex-column\"><h1 class=\"card-title my-2 mt-md-0\">Leetcode 128. Longest Consecutive Sequence</h1><div class=\"card-text content mt-0 mb-3\"><p>Explanation for Leetcode 128 - Longest Consecutive Sequence, and its solution in Python.</p></div><div class=\"post-meta flex-grow-1 d-flex align-items-end\"><div class=\"me-auto\"> <i class=\"far fa-calendar fa-fw me-1\"></i> <time data-ts=\"1737100800\" data-df=\"ll\" > Jan 17, 2025 </time> <i class=\"far fa-folder-open fa-fw me-1\"></i> <span class=\"categories\"> Leetcode, Arrays & Hashing, Medium </span></div></div></div></div></a></article><article class=\"card-wrapper card\"> <a href=\"/devblog/posts/MatplotlibUsage/\" class=\"post-preview row g-0 flex-md-row-reverse\"><div class=\"col-md-12\"><div class=\"card-body d-flex flex-column\"><h1 class=\"card-title my-2 mt-md-0\">How to handle Data, and Images(19) Matplotlib Usage</h1><div class=\"card-text content mt-0 mb-3\"><p>Drawing different types of Graphs with Matploblib</p></div><div class=\"post-meta flex-grow-1 d-flex align-items-end\"><div class=\"me-auto\"> <i class=\"far fa-calendar fa-fw me-1\"></i> <time data-ts=\"1737014400\" data-df=\"ll\" > Jan 16, 2025 </time> <i class=\"far fa-folder-open fa-fw me-1\"></i> <span class=\"categories\"> Handling Data and Images, Matplotlib </span></div></div></div></div></a></article><article class=\"card-wrapper card\"> <a href=\"/devblog/posts/MatplotlibIntro/\" class=\"post-preview row g-0 flex-md-row-reverse\"><div class=\"col-md-12\"><div class=\"card-body d-flex flex-column\"><h1 class=\"card-title my-2 mt-md-0\">How to handle Data, and Images(18) Matplotlib Intro</h1><div class=\"card-text content mt-0 mb-3\"><p>Introduction to Matplotlib and how to plot a line graph and save the figure</p></div><div class=\"post-meta flex-grow-1 d-flex align-items-end\"><div class=\"me-auto\"> <i class=\"far fa-calendar fa-fw me-1\"></i> <time data-ts=\"1737014400\" data-df=\"ll\" > Jan 16, 2025 </time> <i class=\"far fa-folder-open fa-fw me-1\"></i> <span class=\"categories\"> Handling Data and Images, Matplotlib </span></div></div></div></div></a></article><article class=\"card-wrapper card\"> <a href=\"/devblog/posts/Leetcode-49/\" class=\"post-preview row g-0 flex-md-row-reverse\"><div class=\"col-md-12\"><div class=\"card-body d-flex flex-column\"><h1 class=\"card-title my-2 mt-md-0\">Leetcode 49. Group Anagrams</h1><div class=\"card-text content mt-0 mb-3\"><p>Explanation for Leetcode 49 - Group Anagrams, and its solution in Python.</p></div><div class=\"post-meta flex-grow-1 d-flex align-items-end\"><div class=\"me-auto\"> <i class=\"far fa-calendar fa-fw me-1\"></i> <time data-ts=\"1737014400\" data-df=\"ll\" > Jan 16, 2025 </time> <i class=\"far fa-folder-open fa-fw me-1\"></i> <span class=\"categories\"> Leetcode, Arrays & Hashing, Medium </span></div></div></div></div></a></article><article class=\"card-wrapper card\"> <a href=\"/devblog/posts/Leetcode-347/\" class=\"post-preview row g-0 flex-md-row-reverse\"><div class=\"col-md-12\"><div class=\"card-body d-flex flex-column\"><h1 class=\"card-title my-2 mt-md-0\">Leetcode 347. Top K Frequent Elements</h1><div class=\"card-text content mt-0 mb-3\"><p>Explanation for Leetcode 347 - Top K Frequent Elements, and its solution in Python.</p></div><div class=\"post-meta flex-grow-1 d-flex align-items-end\"><div class=\"me-auto\"> <i class=\"far fa-calendar fa-fw me-1\"></i> <time data-ts=\"1737014400\" data-df=\"ll\" > Jan 16, 2025 </time> <i class=\"far fa-folder-open fa-fw me-1\"></i> <span class=\"categories\"> Leetcode, Arrays & Hashing, Medium </span></div></div></div></div></a></article><article class=\"card-wrapper card\"> <a href=\"/devblog/posts/PandasUsage/\" class=\"post-preview row g-0 flex-md-row-reverse\"><div class=\"col-md-12\"><div class=\"card-body d-flex flex-column\"><h1 class=\"card-title my-2 mt-md-0\">How to handle Data, and Images(18) Pandas Usage</h1><div class=\"card-text content mt-0 mb-3\"><p>More in depth of some operations that Pandas offers and their usage</p></div><div class=\"post-meta flex-grow-1 d-flex align-items-end\"><div class=\"me-auto\"> <i class=\"far fa-calendar fa-fw me-1\"></i> <time data-ts=\"1736928000\" data-df=\"ll\" > Jan 15, 2025 </time> <i class=\"far fa-folder-open fa-fw me-1\"></i> <span class=\"categories\"> Handling Data and Images, Pandas </span></div></div></div></div></a></article></div><nav aria-label=\"Page Navigation\"><ul class=\"pagination align-items-center mt-4 mb-0\"><li class=\"page-item disabled\"> <a class=\"page-link\" href=\"#\" aria-label=\"previous-page\"> <i class=\"fas fa-angle-left\"></i> </a><li class=\"page-item active\"> <a class=\"page-link\" href=\"/devblog/\" >1</a><li class=\"page-item \"> <a class=\"page-link\" href=\"/devblog/page2\" >2</a><li class=\"page-item \"> <a class=\"page-link\" href=\"/devblog/page3\" >3</a><li class=\"page-item disabled\"> <span class=\"page-link\">...</span><li class=\"page-item \"> <a class=\"page-link\" href=\"/devblog/page10\" >10</a><li class=\"page-index align-middle\"> <span>1</span> <span class=\"text-muted\">/ 10</span><li class=\"page-item \"> <a class=\"page-link\" href=\"/devblog/page2\" aria-label=\"next-page\"> <i class=\"fas fa-angle-right\"></i> </a></ul></nav></main><aside aria-label=\"Panel\" id=\"panel-wrapper\" class=\"col-xl-3 ps-2 mb-5 text-muted\"><div class=\"access\"><section id=\"access-lastmod\"><h2 class=\"panel-heading\">Recently Updated</h2><ul class=\"content list-unstyled ps-0 pb-1 ms-1 mt-2\"><li class=\"text-truncate lh-lg\"> <a href=\"/devblog/posts/Leetcode-15/\">Leetcode 15. 3Sum</a><li class=\"text-truncate lh-lg\"> <a href=\"/devblog/posts/Leetcode-167/\">Leetcode 167. Two Sum II - Input Array Is Sorted</a><li class=\"text-truncate lh-lg\"> <a href=\"/devblog/posts/Leetcode-238/\">Leetcode 238. Product of Array Except Self</a><li class=\"text-truncate lh-lg\"> <a href=\"/devblog/posts/Leetcode-128/\">Leetcode 128. Longest Consecutive Sequence</a><li class=\"text-truncate lh-lg\"> <a href=\"/devblog/posts/Leetcode-36/\">Leetcode 36. Valid Sudoku</a></ul></section><section><h2 class=\"panel-heading\">Trending Tags</h2><div class=\"d-flex flex-wrap mt-3 mb-1 me-3\"> <a class=\"post-tag btn btn-outline-primary\" href=\"/devblog/tags/python/\">Python</a> <a class=\"post-tag btn btn-outline-primary\" href=\"/devblog/tags/study/\">Study</a> <a class=\"post-tag btn btn-outline-primary\" href=\"/devblog/tags/leetcode/\">Leetcode</a> <a class=\"post-tag btn btn-outline-primary\" href=\"/devblog/tags/easy/\">Easy</a> <a class=\"post-tag btn btn-outline-primary\" href=\"/devblog/tags/medium/\">Medium</a> <a class=\"post-tag btn btn-outline-primary\" href=\"/devblog/tags/arrays-hashing/\">Arrays & Hashing</a> <a class=\"post-tag btn btn-outline-primary\" href=\"/devblog/tags/handling-data-and-images/\">Handling Data and Images</a> <a class=\"post-tag btn btn-outline-primary\" href=\"/devblog/tags/two-pointers/\">Two Pointers</a> <a class=\"post-tag btn btn-outline-primary\" href=\"/devblog/tags/opencv/\">OpenCV</a> <a class=\"post-tag btn btn-outline-primary\" href=\"/devblog/tags/stack/\">Stack</a></div></section></div></aside></div><div class=\"row\"><div id=\"tail-wrapper\" class=\"col-12 col-lg-11 col-xl-9 px-md-4\"><footer aria-label=\"Site Info\" class=\" d-flex flex-column justify-content-center text-muted flex-lg-row justify-content-lg-between align-items-lg-center pb-lg-3 \" ><p>© <time>2025</time> <a href=\"https://github.com/hyeonukim\">Hyeonu(Eric) Kim</a>. <span data-bs-toggle=\"tooltip\" data-bs-placement=\"top\" title=\"Except where otherwise noted, the blog posts on this site are licensed under the Creative Commons Attribution 4.0 International (CC BY 4.0) License by the author.\" >Some rights reserved.</span></p><p>Using the <a data-bs-toggle=\"tooltip\" data-bs-placement=\"top\" title=\"v7.2.4\" href=\"https://github.com/cotes2020/jekyll-theme-chirpy\" target=\"_blank\" rel=\"noopener\" >Chirpy</a> theme for <a href=\"https://jekyllrb.com\" target=\"_blank\" rel=\"noopener\">Jekyll</a>.</p></footer></div></div><div id=\"search-result-wrapper\" class=\"d-flex justify-content-center d-none\"><div class=\"col-11 content\"><div id=\"search-hints\"><section><h2 class=\"panel-heading\">Trending Tags</h2><div class=\"d-flex flex-wrap mt-3 mb-1 me-3\"> <a class=\"post-tag btn btn-outline-primary\" href=\"/devblog/tags/python/\">Python</a> <a class=\"post-tag btn btn-outline-primary\" href=\"/devblog/tags/study/\">Study</a> <a class=\"post-tag btn btn-outline-primary\" href=\"/devblog/tags/leetcode/\">Leetcode</a> <a class=\"post-tag btn btn-outline-primary\" href=\"/devblog/tags/easy/\">Easy</a> <a class=\"post-tag btn btn-outline-primary\" href=\"/devblog/tags/medium/\">Medium</a> <a class=\"post-tag btn btn-outline-primary\" href=\"/devblog/tags/arrays-hashing/\">Arrays & Hashing</a> <a class=\"post-tag btn btn-outline-primary\" href=\"/devblog/tags/handling-data-and-images/\">Handling Data and Images</a> <a class=\"post-tag btn btn-outline-primary\" href=\"/devblog/tags/two-pointers/\">Two Pointers</a> <a class=\"post-tag btn btn-outline-primary\" href=\"/devblog/tags/opencv/\">OpenCV</a> <a class=\"post-tag btn btn-outline-primary\" href=\"/devblog/tags/stack/\">Stack</a></div></section></div><div id=\"search-results\" class=\"d-flex flex-wrap justify-content-center text-muted mt-3\"></div></div></div></div><aside aria-label=\"Scroll to Top\"> <button id=\"back-to-top\" type=\"button\" class=\"btn btn-lg btn-box-shadow\"> <i class=\"fas fa-angle-up\"></i> </button></aside></div><div id=\"mask\"></div><aside id=\"notification\" class=\"toast\" role=\"alert\" aria-live=\"assertive\" aria-atomic=\"true\" data-bs-animation=\"true\" data-bs-autohide=\"false\" ><div class=\"toast-header\"> <button type=\"button\" class=\"btn-close ms-auto\" data-bs-dismiss=\"toast\" aria-label=\"Close\" ></button></div><div class=\"toast-body text-center pt-0\"><p class=\"px-2 mb-3\">A new version of content is available.</p><button type=\"button\" class=\"btn btn-primary\" aria-label=\"Update\"> Update </button></div></aside><script src=\"https://cdn.jsdelivr.net/combine/npm/simple-jekyll-search@1.10.0/dest/simple-jekyll-search.min.js,npm/loading-attribute-polyfill@2.1.1/dist/loading-attribute-polyfill.umd.min.js,npm/dayjs@1.11.13/dayjs.min.js,npm/dayjs@1.11.13/locale/en.js,npm/dayjs@1.11.13/plugin/relativeTime.js,npm/dayjs@1.11.13/plugin/localizedFormat.js\"></script> <script src=\"/devblog/assets/js/dist/home.min.js\"></script> <script defer src=\"/devblog/app.min.js?baseurl=/devblog&register=true\" ></script> <script defer src=\"https://www.googletagmanager.com/gtag/js?id=G-Z5JQGS767E\"></script> <script> document.addEventListener('DOMContentLoaded', function (event) { window.dataLayer = window.dataLayer || []; function gtag() { dataLayer.push(arguments); } gtag('js', new Date()); gtag('config', 'G-Z5JQGS767E'); }); </script> <script>SimpleJekyllSearch({ searchInput: document.getElementById('search-input'), resultsContainer: document.getElementById('search-results'), json: '/devblog/assets/js/data/search.json', searchResultTemplate: '<article class=\"px-1 px-sm-2 px-lg-4 px-xl-0\"><header><h2><a href=\"{url}\">{title}</a></h2><div class=\"post-meta d-flex flex-column flex-sm-row text-muted mt-1 mb-1\"> {categories} {tags}</div></header><p>{snippet}</p></article>', noResultsText: '<p class=\"mt-5\">Oops! No results found.</p>', templateMiddleware: function(prop, value, template) { if (prop === 'categories') { if (value === '') { return `${value}`; } else { return `<div class=\"me-sm-4\"><i class=\"far fa-folder fa-fw\"></i>${value}</div>`; } } if (prop === 'tags') { if (value === '') { return `${value}`; } else { return `<div><i class=\"fa fa-tag fa-fw\"></i>${value}</div>`; } } } }); </script>\n"
          ]
        }
      ]
    },
    {
      "cell_type": "markdown",
      "source": [
        "## Getting HTML code from specific website (2)"
      ],
      "metadata": {
        "id": "yPXYA01Ef0hR"
      }
    },
    {
      "cell_type": "code",
      "source": [
        "import requests\n",
        "from bs4 import BeautifulSoup\n",
        "\n",
        "# make a request on specific URL\n",
        "request = requests.get('https://hyeonukim.github.io/devblog/')\n",
        "\n",
        "# after connecting, get website's source code\n",
        "html = request.text.strip()\n",
        "\n",
        "# turn HTML source code into python's BeautifulSoup variable\n",
        "soup = BeautifulSoup(html, 'html.parser')\n",
        "\n",
        "# get all the elements consisting of <a> tag\n",
        "links = soup.select('a')\n",
        "\n",
        "# for all link\n",
        "for link in links:\n",
        "  # if link has 'href' attribute\n",
        "  if link.has_attr('href'):\n",
        "    # href attribute has text 'posts' included\n",
        "    if link.get('href').find('posts') != -1:\n",
        "      print(link.text)"
      ],
      "metadata": {
        "colab": {
          "base_uri": "https://localhost:8080/"
        },
        "id": "e6xE84O0frVe",
        "outputId": "6b3f93e1-1c38-49dd-9d25-9ad23839c2e6"
      },
      "execution_count": 30,
      "outputs": [
        {
          "output_type": "stream",
          "name": "stdout",
          "text": [
            "Leetcode 167. Two Sum II - Input Array Is SortedExplanation for Leetcode 167 - Two Sum II - Input Array Is Sorted, and its solution in Python.   Jan 18, 2025    Leetcode, Two Pointers, Medium \n",
            "Leetcode 15. 3SumExplanation for Leetcode 15 - 3Sum, and its solution in Python.   Jan 18, 2025    Leetcode, Two Pointers, Medium \n",
            "Leetcode 36. Valid SudokuExplanation for Leetcode 36 - Valid Sudoku, and its solution in Python.   Jan 17, 2025    Leetcode, Arrays & Hashing, Medium \n",
            "Leetcode 238. Product of Array Except SelfExplanation for Leetcode 238 - Product of Array Except Self, and its solution in Python.   Jan 17, 2025    Leetcode, Arrays & Hashing, Medium \n",
            "Leetcode 128. Longest Consecutive SequenceExplanation for Leetcode 128 - Longest Consecutive Sequence, and its solution in Python.   Jan 17, 2025    Leetcode, Arrays & Hashing, Medium \n",
            "How to handle Data, and Images(19) Matplotlib UsageDrawing different types of Graphs with Matploblib   Jan 16, 2025    Handling Data and Images, Matplotlib \n",
            "How to handle Data, and Images(18) Matplotlib IntroIntroduction to Matplotlib and how to plot a line graph and save the figure   Jan 16, 2025    Handling Data and Images, Matplotlib \n",
            "Leetcode 49. Group AnagramsExplanation for Leetcode 49 - Group Anagrams, and its solution in Python.   Jan 16, 2025    Leetcode, Arrays & Hashing, Medium \n",
            "Leetcode 347. Top K Frequent ElementsExplanation for Leetcode 347 - Top K Frequent Elements, and its solution in Python.   Jan 16, 2025    Leetcode, Arrays & Hashing, Medium \n",
            "How to handle Data, and Images(18) Pandas UsageMore in depth of some operations that Pandas offers and their usage   Jan 15, 2025    Handling Data and Images, Pandas \n",
            "Leetcode 15. 3Sum\n",
            "Leetcode 167. Two Sum II - Input Array Is Sorted\n",
            "Leetcode 238. Product of Array Except Self\n",
            "Leetcode 128. Longest Consecutive Sequence\n",
            "Leetcode 36. Valid Sudoku\n"
          ]
        }
      ]
    },
    {
      "cell_type": "code",
      "source": [],
      "metadata": {
        "id": "JJOlE-migH-F"
      },
      "execution_count": null,
      "outputs": []
    }
  ]
}