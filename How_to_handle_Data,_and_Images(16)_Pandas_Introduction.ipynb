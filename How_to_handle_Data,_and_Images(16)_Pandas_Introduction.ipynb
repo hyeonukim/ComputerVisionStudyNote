{
  "nbformat": 4,
  "nbformat_minor": 0,
  "metadata": {
    "colab": {
      "provenance": [],
      "authorship_tag": "ABX9TyP6v7VJj/d87+9aDUv6m6Fu",
      "include_colab_link": true
    },
    "kernelspec": {
      "name": "python3",
      "display_name": "Python 3"
    },
    "language_info": {
      "name": "python"
    }
  },
  "cells": [
    {
      "cell_type": "markdown",
      "metadata": {
        "id": "view-in-github",
        "colab_type": "text"
      },
      "source": [
        "<a href=\"https://colab.research.google.com/github/hyeonukim/DataProcessing_ImageHandling/blob/main/How_to_handle_Data%2C_and_Images(16)_Pandas_Introduction.ipynb\" target=\"_parent\"><img src=\"https://colab.research.google.com/assets/colab-badge.svg\" alt=\"Open In Colab\"/></a>"
      ]
    },
    {
      "cell_type": "markdown",
      "source": [
        "## What is Pandas?\n",
        "- Pandas is used to effectively manage data, and helps visualize data\n",
        "- When used with Numpy, it allows lot of linked features\n",
        "- It's organized using Index, which is similar to Dictionary\n",
        "- The base data is organized by Series (column of the table)\n",
        "  - Series consists of key/index and value\n",
        "- It's similar to Excel\n",
        "\n"
      ],
      "metadata": {
        "id": "-gII_9vx0P9s"
      }
    },
    {
      "cell_type": "code",
      "source": [
        "import pandas as pd\n",
        "\n",
        "arr = pd.Series(['Apple', 'Banana', 'Carrot'], index = ['a','b','c'])\n",
        "\n",
        "print(arr)\n",
        "print(arr['a'])"
      ],
      "metadata": {
        "colab": {
          "base_uri": "https://localhost:8080/"
        },
        "id": "loeSHuU11d6z",
        "outputId": "3b91b98e-1d1f-4abc-cc0e-38ade95a2dcb"
      },
      "execution_count": 1,
      "outputs": [
        {
          "output_type": "stream",
          "name": "stdout",
          "text": [
            "a     Apple\n",
            "b    Banana\n",
            "c    Carrot\n",
            "dtype: object\n",
            "Apple\n"
          ]
        }
      ]
    },
    {
      "cell_type": "code",
      "source": [
        "import pandas as pd\n",
        "\n",
        "data = {\n",
        "    'a': 'Apple',\n",
        "    'b': 'Banana',\n",
        "    'c': 'Carrot'\n",
        "}\n",
        "\n",
        "# we can turn Dictionary into Panda's Series\n",
        "arr = pd.Series(data)\n",
        "print(arr['a'])\n"
      ],
      "metadata": {
        "colab": {
          "base_uri": "https://localhost:8080/"
        },
        "id": "TeYK6CeU1tVt",
        "outputId": "4cdf0e03-2d80-4278-a3fd-fd1652839c7d"
      },
      "execution_count": 2,
      "outputs": [
        {
          "output_type": "stream",
          "name": "stdout",
          "text": [
            "Apple\n"
          ]
        }
      ]
    },
    {
      "cell_type": "markdown",
      "source": [
        "## Data Frame\n",
        "- **pd.DataFrame**: Two-dimensional, size-mutable, potentially heterogeneous tabular data.\n",
        "- Data Frames are data displayed in a format as a table\n",
        "- It's used to deal merging different Series"
      ],
      "metadata": {
        "id": "CHbyzmRQ2Hp4"
      }
    },
    {
      "cell_type": "code",
      "source": [
        "import pandas as pd\n",
        "\n",
        "age_dict = {\n",
        "    'Abigail': '23',\n",
        "    'Bob': '18',\n",
        "    'Charlie': '24',\n",
        "    'Darren': '30'\n",
        "}\n",
        "\n",
        "location_dict = {\n",
        "    'Abigail': 'Quebec',\n",
        "    'Bob': 'Toronto',\n",
        "    'Charlie': 'Vancouver',\n",
        "    'Darren': 'Halifax'\n",
        "}\n",
        "\n",
        "# convert Dictionary into Panda's Series\n",
        "age = pd.Series(age_dict)\n",
        "location = pd.Series(location_dict)\n",
        "\n",
        "# Merge two Series into one DataFrame (Name: Values)\n",
        "summary = pd.DataFrame({\n",
        "    'age': age,\n",
        "    'location': location\n",
        "})\n",
        "\n",
        "print(summary)"
      ],
      "metadata": {
        "colab": {
          "base_uri": "https://localhost:8080/"
        },
        "id": "ewmB5t252ANt",
        "outputId": "dcaded71-5f84-4bd1-aade-e649d31529b5"
      },
      "execution_count": 3,
      "outputs": [
        {
          "output_type": "stream",
          "name": "stdout",
          "text": [
            "        age   location\n",
            "Abigail  23     Quebec\n",
            "Bob      18    Toronto\n",
            "Charlie  24  Vancouver\n",
            "Darren   30    Halifax\n"
          ]
        }
      ]
    },
    {
      "cell_type": "markdown",
      "source": [
        "## Series Calculation\n",
        "- We can do math operations on Series to make new Series\n",
        "\n",
        "| Product   | Price(Dollar)   |   | Product   | Amount   |   | Product   | Final Price(Dollar) |\n",
        "|--------|--------|---|--------|--------|---|--------|----------|\n",
        "| Apple   | 1.5  | * | Apple   | 3    | = | Apple   | 4.5    |\n",
        "| Banana | 2  | * | Banana | 2    | = | Banana | 4    |\n",
        "| Carrot   | 1  | * | Carrot   | 3    | = | Carrot   | 3   |"
      ],
      "metadata": {
        "id": "7lZ2Kvle3b2N"
      }
    },
    {
      "cell_type": "code",
      "source": [
        "import pandas as pd\n",
        "\n",
        "price_dict = {\n",
        "    'Apple': 1.5,\n",
        "    'Banana': 2,\n",
        "    'Carrot': 1,\n",
        "}\n",
        "amount_dict = {\n",
        "    'Apple': 3,\n",
        "    'Banana': 2,\n",
        "    'Carrot': 3,\n",
        "}\n",
        "\n",
        "# convert dictionary into Pandas' Series\n",
        "price = pd.Series(price_dict)\n",
        "amount = pd.Series(amount_dict)\n",
        "\n",
        "# Merge two Series into Data Frame\n",
        "summary = pd.DataFrame({\n",
        "    'Price(Dollar)': price,\n",
        "    'Amount': amount\n",
        "})\n",
        "\n",
        "# make a new Series called final_cost using Price, Amount\n",
        "final_cost = summary['Price(Dollar)'] * summary['Amount']\n",
        "summary['final_cost'] = final_cost\n",
        "\n",
        "print(summary)"
      ],
      "metadata": {
        "colab": {
          "base_uri": "https://localhost:8080/"
        },
        "id": "pfa2Teo13ZQC",
        "outputId": "34ee2eba-258a-4ce4-b117-11f97199be34"
      },
      "execution_count": 5,
      "outputs": [
        {
          "output_type": "stream",
          "name": "stdout",
          "text": [
            "        Price(Dollar)  Amount  final_cost\n",
            "Apple             1.5       3         4.5\n",
            "Banana            2.0       2         4.0\n",
            "Carrot            1.0       3         3.0\n"
          ]
        }
      ]
    },
    {
      "cell_type": "markdown",
      "source": [
        "## Slicing Data Frame\n",
        "- **pd.DataFrame.loc**: Access a group of rows and columns by label(s) or a boolean array.\n",
        "- **pd.DataFrame.iloc**: primarily integer position based (from 0 to length-1 of the axis), but may also be used with a boolean array."
      ],
      "metadata": {
        "id": "aDp72IXG6L7N"
      }
    },
    {
      "cell_type": "code",
      "source": [
        "import pandas as pd\n",
        "\n",
        "price_dict = {\n",
        "    'Apple': 1.5,\n",
        "    'Banana': 2,\n",
        "    'Carrot': 1,\n",
        "    'Durian': 5\n",
        "}\n",
        "amount_dict = {\n",
        "    'Apple': 3,\n",
        "    'Banana': 2,\n",
        "    'Carrot': 3,\n",
        "    'Durian': 4\n",
        "}\n",
        "\n",
        "# convert dictionary into Pandas' Series\n",
        "price = pd.Series(price_dict)\n",
        "amount = pd.Series(amount_dict)\n",
        "\n",
        "# Merge two Series into Data Frame\n",
        "summary = pd.DataFrame({\n",
        "    'Price(Dollar)': price,\n",
        "    'Amount': amount\n",
        "})\n",
        "\n",
        "print(summary)\n",
        "\n",
        "# slicing using variable name/ key\n",
        "print(summary.loc['Banana':'Carrot', 'Amount':])\n",
        "\n",
        "# slicing using index\n",
        "print(summary.iloc[1:3, 0:])"
      ],
      "metadata": {
        "colab": {
          "base_uri": "https://localhost:8080/"
        },
        "id": "xozS0pc65_J6",
        "outputId": "248b7c71-0866-4310-c917-9fc543370f9a"
      },
      "execution_count": 14,
      "outputs": [
        {
          "output_type": "stream",
          "name": "stdout",
          "text": [
            "        Price(Dollar)  Amount\n",
            "Apple             1.5       3\n",
            "Banana            2.0       2\n",
            "Carrot            1.0       3\n",
            "Durian            5.0       4\n",
            "        Amount\n",
            "Banana       2\n",
            "Carrot       3\n",
            "        Price(Dollar)  Amount\n",
            "Banana            2.0       2\n",
            "Carrot            1.0       3\n"
          ]
        }
      ]
    },
    {
      "cell_type": "markdown",
      "source": [
        "## Data Frame Operation"
      ],
      "metadata": {
        "id": "6ftULlY-75QS"
      }
    },
    {
      "cell_type": "code",
      "source": [
        "import pandas as pd\n",
        "\n",
        "price_dict = {\n",
        "    'Apple': 1.5,\n",
        "    'Banana': 2,\n",
        "    'Carrot': 1,\n",
        "    'Durian': 5\n",
        "}\n",
        "amount_dict = {\n",
        "    'Apple': 3,\n",
        "    'Banana': 2,\n",
        "    'Carrot': 3,\n",
        "    'Durian': 4\n",
        "}\n",
        "\n",
        "# convert dictionary into Pandas' Series\n",
        "price = pd.Series(price_dict)\n",
        "amount = pd.Series(amount_dict)\n",
        "\n",
        "# Merge two Series into Data Frame\n",
        "summary = pd.DataFrame({\n",
        "    'Price(Dollar)': price,\n",
        "    'Amount': amount\n",
        "})\n",
        "\n",
        "print(summary)\n",
        "\n",
        "# changing the value in DataFrame\n",
        "summary.loc['Apple', 'Price(Dollar)'] = 5\n",
        "# adding a new Data into DataFrame\n",
        "summary.loc['Elderberry'] = [4.5, 6]\n",
        "\n",
        "print(summary)"
      ],
      "metadata": {
        "colab": {
          "base_uri": "https://localhost:8080/"
        },
        "id": "gICOpqxY6xlU",
        "outputId": "b39aee15-0184-4f21-83fb-8a2e80356b8f"
      },
      "execution_count": 13,
      "outputs": [
        {
          "output_type": "stream",
          "name": "stdout",
          "text": [
            "        Price(Dollar)  Amount\n",
            "Apple             1.5       3\n",
            "Banana            2.0       2\n",
            "Carrot            1.0       3\n",
            "Durian            5.0       4\n",
            "            Price(Dollar)  Amount\n",
            "Apple                 5.0     3.0\n",
            "Banana                2.0     2.0\n",
            "Carrot                1.0     3.0\n",
            "Durian                5.0     4.0\n",
            "Elderberry            4.5     6.0\n"
          ]
        }
      ]
    },
    {
      "cell_type": "markdown",
      "source": [
        "## Saving/Loading to Excel\n",
        "\n",
        "- **pd.DataFrame.to_csv**: saves the Data Frame into .csv file\n",
        "- **pd.read_csv**: loads the excel to DataFrame"
      ],
      "metadata": {
        "id": "uVy8Kq0r8d4_"
      }
    },
    {
      "cell_type": "code",
      "source": [
        "import pandas as pd\n",
        "\n",
        "price_dict = {\n",
        "    'Apple': 1.5,\n",
        "    'Banana': 2,\n",
        "    'Carrot': 1,\n",
        "}\n",
        "amount_dict = {\n",
        "    'Apple': 3,\n",
        "    'Banana': 2,\n",
        "    'Carrot': 3,\n",
        "}\n",
        "\n",
        "# convert dictionary into Pandas' Series\n",
        "price = pd.Series(price_dict)\n",
        "amount = pd.Series(amount_dict)\n",
        "\n",
        "# Merge two Series into Data Frame\n",
        "summary = pd.DataFrame({\n",
        "    'Price(Dollar)': price,\n",
        "    'Amount': amount\n",
        "})\n",
        "\n",
        "# save pandas data frame into .csv file\n",
        "summary.to_csv('summary.csv', encoding='utf-8-sig')\n",
        "# load the .csv file into variable\n",
        "saved = pd.read_csv('summary.csv', index_col=0)\n",
        "print(saved)"
      ],
      "metadata": {
        "colab": {
          "base_uri": "https://localhost:8080/"
        },
        "id": "dlp63QSw8U2-",
        "outputId": "8c827476-1601-46c7-feb1-cda3b8545396"
      },
      "execution_count": 17,
      "outputs": [
        {
          "output_type": "stream",
          "name": "stdout",
          "text": [
            "        Price(Dollar)  Amount\n",
            "Apple             1.5       3\n",
            "Banana            2.0       2\n",
            "Carrot            1.0       3\n"
          ]
        }
      ]
    },
    {
      "cell_type": "code",
      "source": [],
      "metadata": {
        "id": "MDA6IaVB884F"
      },
      "execution_count": null,
      "outputs": []
    }
  ]
}