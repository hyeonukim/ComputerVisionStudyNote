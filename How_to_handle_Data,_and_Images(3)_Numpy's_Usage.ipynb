{
  "nbformat": 4,
  "nbformat_minor": 0,
  "metadata": {
    "colab": {
      "provenance": [],
      "authorship_tag": "ABX9TyMNj3cAE3ZuDKggFcQKR/9X",
      "include_colab_link": true
    },
    "kernelspec": {
      "name": "python3",
      "display_name": "Python 3"
    },
    "language_info": {
      "name": "python"
    }
  },
  "cells": [
    {
      "cell_type": "markdown",
      "metadata": {
        "id": "view-in-github",
        "colab_type": "text"
      },
      "source": [
        "<a href=\"https://colab.research.google.com/github/hyeonukim/DataProcessing_ImageHandling/blob/main/How_to_handle_Data%2C_and_Images(3)_Numpy's_Usage.ipynb\" target=\"_parent\"><img src=\"https://colab.research.google.com/assets/colab-badge.svg\" alt=\"Open In Colab\"/></a>"
      ]
    },
    {
      "cell_type": "markdown",
      "source": [
        "## Python's Numpy is capable of saving and loading data"
      ],
      "metadata": {
        "id": "Tvku_1VhlN51"
      }
    },
    {
      "cell_type": "code",
      "source": [
        "import numpy as np\n",
        "\n",
        "# create an array with 0-9\n",
        "arr = np.arange(0,10)\n",
        "# save the corresponding array to saved.npy\n",
        "np.save('saved.npy', arr)\n",
        "\n",
        "# load the corresponding data to res\n",
        "res = np.load('saved.npy')\n",
        "print(res)"
      ],
      "metadata": {
        "colab": {
          "base_uri": "https://localhost:8080/"
        },
        "id": "My53kCgnnQyu",
        "outputId": "6483a4fd-deb0-454e-b850-cff3260f29b8"
      },
      "execution_count": 1,
      "outputs": [
        {
          "output_type": "stream",
          "name": "stdout",
          "text": [
            "[0 1 2 3 4 5 6 7 8 9]\n"
          ]
        }
      ]
    },
    {
      "cell_type": "markdown",
      "source": [
        "## Saving multiple arrays"
      ],
      "metadata": {
        "id": "zdK9U3ahnmHQ"
      }
    },
    {
      "cell_type": "code",
      "source": [
        "arr1 = np.arange(0, 10)\n",
        "arr2 = np.arange(10, 20)\n",
        "np.savez('saved.npz', arr1=arr1, arr2=arr2)\n",
        "\n",
        "data = np.load('saved.npz')\n",
        "res1 = data['arr1']\n",
        "res2 = data['arr2']\n",
        "print(\"res1\\n\", res1)\n",
        "print(\"res2\\n\", res2)"
      ],
      "metadata": {
        "colab": {
          "base_uri": "https://localhost:8080/"
        },
        "id": "axmo8RVcnqxt",
        "outputId": "f0b93798-b919-49f9-a0f0-648e27687497"
      },
      "execution_count": 2,
      "outputs": [
        {
          "output_type": "stream",
          "name": "stdout",
          "text": [
            "res1\n",
            " [0 1 2 3 4 5 6 7 8 9]\n",
            "res2\n",
            " [10 11 12 13 14 15 16 17 18 19]\n"
          ]
        }
      ]
    },
    {
      "cell_type": "markdown",
      "source": [
        "## Sorting in Numpy"
      ],
      "metadata": {
        "id": "rgl_kmr6n8PB"
      }
    },
    {
      "cell_type": "code",
      "source": [
        "# sorting smallest to biggest\n",
        "arr = np.array([5, 9, 10, 3, 1])\n",
        "arr.sort()\n",
        "print(\"arr\\n\", arr)\n",
        "\n",
        "# sorting biggest to smallest\n",
        "arr = np.array([5, 9, 10, 3, 1])\n",
        "arr.sort()\n",
        "print(\"arr\\n\", arr[::-1])\n",
        "\n",
        "# sorting 2d array by column\n",
        "arr = np.array([[5, 9, 10, 3, 1], [8, 3, 4, 2, 5]])\n",
        "arr.sort(axis=0)\n",
        "print(\"arr\\n\", arr)\n",
        "\n",
        "# sorting 2d array by row\n",
        "arr = np.array([[5, 9, 10, 3, 1], [8, 3, 4, 2, 5]])\n",
        "arr.sort(axis=1)\n",
        "print(\"arr\\n\", arr)"
      ],
      "metadata": {
        "colab": {
          "base_uri": "https://localhost:8080/"
        },
        "id": "w4_QuaaFn_qU",
        "outputId": "45f4a22f-baa0-4f15-8860-bae2a1f2401b"
      },
      "execution_count": 6,
      "outputs": [
        {
          "output_type": "stream",
          "name": "stdout",
          "text": [
            "arr\n",
            " [ 1  3  5  9 10]\n",
            "arr\n",
            " [10  9  5  3  1]\n",
            "arr\n",
            " [[ 5  3  4  2  1]\n",
            " [ 8  9 10  3  5]]\n",
            "arr\n",
            " [[ 1  3  5  9 10]\n",
            " [ 2  3  4  5  8]]\n"
          ]
        }
      ]
    },
    {
      "cell_type": "markdown",
      "source": [
        "## More functions that are commonly used in Numpy"
      ],
      "metadata": {
        "id": "2L_xh6ZXoqvv"
      }
    },
    {
      "cell_type": "code",
      "source": [
        "# create an array for 5 elements from 0 to 10 evenly spaced\n",
        "arr = np.linspace(0, 10, 5)\n",
        "print(\"arr\\n\", arr)\n",
        "\n",
        "# random with seed allows us to reenact\n",
        "np.random.seed(7)\n",
        "print(\"random seed (7)\\n\", np.random.randint(0, 10, (2,3)))\n",
        "\n",
        "# copying array\n",
        "arr1 = np.arange(0, 10)\n",
        "arr2 = arr1.copy()\n",
        "print(\"arr2\\n\", arr2)\n",
        "\n",
        "# removes repeated elements\n",
        "arr = np.array([1, 1, 2, 3, 3, 3, 1])\n",
        "print(\"np.unique\\n\", np.unique(arr))"
      ],
      "metadata": {
        "colab": {
          "base_uri": "https://localhost:8080/"
        },
        "id": "LxIs5tzzot_N",
        "outputId": "42a34eef-9f61-4fd7-f968-a9196e690c47"
      },
      "execution_count": 10,
      "outputs": [
        {
          "output_type": "stream",
          "name": "stdout",
          "text": [
            "arr\n",
            " [ 0.   2.5  5.   7.5 10. ]\n",
            "random seed (7)\n",
            " [[4 9 6]\n",
            " [3 3 7]]\n",
            "arr2\n",
            " [0 1 2 3 4 5 6 7 8 9]\n",
            "np.unique\n",
            " [1 2 3]\n"
          ]
        }
      ]
    },
    {
      "cell_type": "code",
      "source": [],
      "metadata": {
        "id": "f2Eui6zupcfm"
      },
      "execution_count": null,
      "outputs": []
    }
  ]
}