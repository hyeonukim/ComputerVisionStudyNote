{
  "nbformat": 4,
  "nbformat_minor": 0,
  "metadata": {
    "colab": {
      "provenance": [],
      "authorship_tag": "ABX9TyPJQwwCNoFR5G46zUe/w5Tr",
      "include_colab_link": true
    },
    "kernelspec": {
      "name": "python3",
      "display_name": "Python 3"
    },
    "language_info": {
      "name": "python"
    }
  },
  "cells": [
    {
      "cell_type": "markdown",
      "metadata": {
        "id": "view-in-github",
        "colab_type": "text"
      },
      "source": [
        "<a href=\"https://colab.research.google.com/github/hyeonukim/ComputerVisionStudyNote/blob/main/computervision_1_how_to_use_numpy.ipynb\" target=\"_parent\"><img src=\"https://colab.research.google.com/assets/colab-badge.svg\" alt=\"Open In Colab\"/></a>"
      ]
    },
    {
      "cell_type": "markdown",
      "source": [
        "## Importing Numpy and how to make List/Array with Numpy\n"
      ],
      "metadata": {
        "id": "4L-RHsmUfpkt"
      }
    },
    {
      "cell_type": "code",
      "source": [
        "import numpy as np\n",
        "\n",
        "list_data = [1, 2, 3]\n",
        "arr = np.array(list_data)\n",
        "\n",
        "print(arr.size)\n",
        "print(arr.dtype)\n",
        "print(arr[2])"
      ],
      "metadata": {
        "colab": {
          "base_uri": "https://localhost:8080/"
        },
        "id": "Hx41aqVBfvQl",
        "outputId": "dc9fdee1-6bce-4198-d148-4d48c69c8a70"
      },
      "execution_count": null,
      "outputs": [
        {
          "output_type": "stream",
          "name": "stdout",
          "text": [
            "3\n",
            "int64\n",
            "3\n"
          ]
        }
      ]
    },
    {
      "cell_type": "markdown",
      "source": [
        "## Some basic operations in Numpy"
      ],
      "metadata": {
        "id": "gDxxS0FOgCIC"
      }
    },
    {
      "cell_type": "code",
      "source": [
        "# creating 1d array [0, 1, 2, 3] (from 0 to 3)\n",
        "# you can think of this like for i in range(4)\n",
        "arr1 = np.arange(4)\n",
        "print(\"arr1:\\n\", arr1)\n",
        "\n",
        "# create a 4x4 2d array(matrix) with value float 0\n",
        "arr2 = np.zeros((4, 4), dtype = float)\n",
        "print(\"arr2:\\n\", arr2)\n",
        "\n",
        "# create a 3x3 2d array(matrix) with value string 1\n",
        "arr3 = np.ones((3, 3), dtype=str)\n",
        "print(\"arr3:\\n\", arr3)\n",
        "\n",
        "# create a 3x3 2d array(matrix) with random values 0 to 9\n",
        "arr4 = np.random.randint(0, 10, (3, 3))\n",
        "print(\"arr4:\\n\", arr4)\n",
        "\n",
        "# create a 3x3 2d array(matrix) where mean value is 0 with standard deviation of 1\n",
        "arr5 = np.random.normal(0, 1, (3, 3))\n",
        "print(\"arr5:\\n\", arr5)"
      ],
      "metadata": {
        "colab": {
          "base_uri": "https://localhost:8080/"
        },
        "id": "u7aAo60UgHMS",
        "outputId": "3ccb7a6c-a5dd-42bf-9dec-d2b0c8277f61"
      },
      "execution_count": null,
      "outputs": [
        {
          "output_type": "stream",
          "name": "stdout",
          "text": [
            "arr1:\n",
            " [0 1 2 3]\n",
            "arr2:\n",
            " [[0. 0. 0. 0.]\n",
            " [0. 0. 0. 0.]\n",
            " [0. 0. 0. 0.]\n",
            " [0. 0. 0. 0.]]\n",
            "arr3:\n",
            " [['1' '1' '1']\n",
            " ['1' '1' '1']\n",
            " ['1' '1' '1']]\n",
            "arr4:\n",
            " [[9 2 6]\n",
            " [7 9 0]\n",
            " [6 5 4]]\n",
            "arr5:\n",
            " [[ 0.66755247 -0.16216641  0.81601341]\n",
            " [ 0.7853595  -0.58722737  0.2097311 ]\n",
            " [ 1.24401384  0.39303442 -1.37390758]]\n"
          ]
        }
      ]
    },
    {
      "cell_type": "markdown",
      "source": [
        "## Merging two array using Numpy"
      ],
      "metadata": {
        "id": "Ms4UdI86iNau"
      }
    },
    {
      "cell_type": "code",
      "source": [
        "arr1 = np.array([1, 2, 3])\n",
        "arr2 = np.array([4, 5, 6])\n",
        "# merge two array arr1, arr2 in a 1D array(vector)\n",
        "arr3 = np.concatenate([arr1, arr2])\n",
        "\n",
        "print(arr3.shape)\n",
        "print(arr3)"
      ],
      "metadata": {
        "colab": {
          "base_uri": "https://localhost:8080/"
        },
        "id": "5aH-kbRViTb0",
        "outputId": "9ef76e66-565f-4948-85ee-a21c1a9fdf7d"
      },
      "execution_count": null,
      "outputs": [
        {
          "output_type": "stream",
          "name": "stdout",
          "text": [
            "(6,)\n",
            "[1 2 3 4 5 6]\n"
          ]
        }
      ]
    },
    {
      "cell_type": "markdown",
      "source": [
        "## Using Reshape allows array to be in different shape"
      ],
      "metadata": {
        "id": "7JNam5DLjyxa"
      }
    },
    {
      "cell_type": "code",
      "source": [
        "# array 1 is a 1x4 array\n",
        "arr1 = np.array([1,2,3,4])\n",
        "# using reshape to make 2x2 array\n",
        "arr2 = arr1.reshape((2,2))\n",
        "print(\"arr2 shape\\n\", arr2.shape)\n",
        "print(\"arr2\\n\", arr2)"
      ],
      "metadata": {
        "colab": {
          "base_uri": "https://localhost:8080/"
        },
        "id": "aG57LjhHkDt5",
        "outputId": "2c6c41e2-684c-4320-ca20-a813dac36dec"
      },
      "execution_count": null,
      "outputs": [
        {
          "output_type": "stream",
          "name": "stdout",
          "text": [
            "arr2 shape\n",
            " (2, 2)\n",
            "arr2\n",
            " [[1 2]\n",
            " [3 4]]\n"
          ]
        }
      ]
    },
    {
      "cell_type": "markdown",
      "source": [
        "## More example on Concatenate and Reshape"
      ],
      "metadata": {
        "id": "Om32CYBtijxT"
      }
    },
    {
      "cell_type": "code",
      "source": [
        "# create a 1x4 matrix from 0 to 3\n",
        "arr1 = np.arange(4).reshape(1, 4)\n",
        "# create 2x4 matrix from 0 to 7\n",
        "arr2 = np.arange(8).reshape(2, 4)\n",
        "\n",
        "print(\"arr1\\n\", arr1)\n",
        "print(\"arr2\\n\", arr2)\n",
        "\n",
        "# merge two array\n",
        "arr3 = np.concatenate([arr1, arr2], axis=0)\n",
        "print(\"arr3\\n\", arr3)"
      ],
      "metadata": {
        "colab": {
          "base_uri": "https://localhost:8080/"
        },
        "id": "oTEK66Siib1r",
        "outputId": "8d919b30-e5f1-4ffc-f4db-528da0c999a5"
      },
      "execution_count": null,
      "outputs": [
        {
          "output_type": "stream",
          "name": "stdout",
          "text": [
            "arr1\n",
            " [[0 1 2 3]]\n",
            "arr2\n",
            " [[0 1 2 3]\n",
            " [4 5 6 7]]\n",
            "arr3\n",
            " [[0 1 2 3]\n",
            " [0 1 2 3]\n",
            " [4 5 6 7]]\n"
          ]
        }
      ]
    },
    {
      "cell_type": "markdown",
      "source": [
        "## We can also split the array"
      ],
      "metadata": {
        "id": "omwt8sClkcPR"
      }
    },
    {
      "cell_type": "code",
      "source": [
        "# create a 2x4 matrix from 0 to 7\n",
        "arr = np.arange(8).reshape(2, 4)\n",
        "print(\"arr\\n\", arr)\n",
        "\n",
        "#split the array into 2 vertically\n",
        "left, right = np.split(arr, [2], axis=1)\n",
        "\n",
        "print(\"left\\n\", left)\n",
        "print(\"right\\n\", right)\n",
        "\n"
      ],
      "metadata": {
        "colab": {
          "base_uri": "https://localhost:8080/"
        },
        "id": "ZvDPG9e0jGsZ",
        "outputId": "022714cc-4d71-4bb8-efa4-fa498b740314"
      },
      "execution_count": null,
      "outputs": [
        {
          "output_type": "stream",
          "name": "stdout",
          "text": [
            "arr\n",
            " [[0 1 2 3]\n",
            " [4 5 6 7]]\n",
            "left\n",
            " [[0 1]\n",
            " [4 5]]\n",
            "right\n",
            " [[2 3]\n",
            " [6 7]]\n"
          ]
        }
      ]
    },
    {
      "cell_type": "code",
      "source": [],
      "metadata": {
        "id": "yUMUlK5kkvWh"
      },
      "execution_count": null,
      "outputs": []
    }
  ]
}
