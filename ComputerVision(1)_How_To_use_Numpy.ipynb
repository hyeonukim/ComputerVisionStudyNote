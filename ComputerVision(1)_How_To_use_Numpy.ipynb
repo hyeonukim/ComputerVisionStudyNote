{
  "cells": [
    {
      "cell_type": "markdown",
      "metadata": {
        "id": "4L-RHsmUfpkt"
      },
      "source": [
        "## Importing Numpy and how to make List/Array with Numpy\n"
      ]
    },
    {
      "cell_type": "code",
      "execution_count": 1,
      "metadata": {
        "colab": {
          "base_uri": "https://localhost:8080/",
          "height": 0
        },
        "id": "Hx41aqVBfvQl",
        "outputId": "dc9fdee1-6bce-4198-d148-4d48c69c8a70"
      },
      "outputs": [
        {
          "name": "stdout",
          "output_type": "stream",
          "text": [
            "3\n",
            "int64\n",
            "3\n"
          ]
        }
      ],
      "source": [
        "import numpy as np\n",
        "\n",
        "list_data = [1, 2, 3]\n",
        "arr = np.array(list_data)\n",
        "\n",
        "print(arr.size)\n",
        "print(arr.dtype)\n",
        "print(arr[2])"
      ]
    },
    {
      "cell_type": "markdown",
      "metadata": {
        "id": "gDxxS0FOgCIC"
      },
      "source": [
        "## Some basic operations in Numpy"
      ]
    },
    {
      "cell_type": "code",
      "execution_count": 5,
      "metadata": {
        "colab": {
          "base_uri": "https://localhost:8080/",
          "height": 0
        },
        "id": "u7aAo60UgHMS",
        "outputId": "3ccb7a6c-a5dd-42bf-9dec-d2b0c8277f61"
      },
      "outputs": [
        {
          "name": "stdout",
          "output_type": "stream",
          "text": [
            "arr1:\n",
            " [0 1 2 3]\n",
            "arr2:\n",
            " [[0. 0. 0. 0.]\n",
            " [0. 0. 0. 0.]\n",
            " [0. 0. 0. 0.]\n",
            " [0. 0. 0. 0.]]\n",
            "arr3:\n",
            " [['1' '1' '1']\n",
            " ['1' '1' '1']\n",
            " ['1' '1' '1']]\n",
            "arr4:\n",
            " [[9 2 6]\n",
            " [7 9 0]\n",
            " [6 5 4]]\n",
            "arr5:\n",
            " [[ 0.66755247 -0.16216641  0.81601341]\n",
            " [ 0.7853595  -0.58722737  0.2097311 ]\n",
            " [ 1.24401384  0.39303442 -1.37390758]]\n"
          ]
        }
      ],
      "source": [
        "# creating 1d array [0, 1, 2, 3] (from 0 to 3)\n",
        "# you can think of this like for i in range(4)\n",
        "arr1 = np.arange(4)\n",
        "print(\"arr1:\\n\", arr1)\n",
        "\n",
        "# create a 4x4 2d array(matrix) with value float 0\n",
        "arr2 = np.zeros((4, 4), dtype = float)\n",
        "print(\"arr2:\\n\", arr2)\n",
        "\n",
        "# create a 3x3 2d array(matrix) with value string 1\n",
        "arr3 = np.ones((3, 3), dtype=str)\n",
        "print(\"arr3:\\n\", arr3)\n",
        "\n",
        "# create a 3x3 2d array(matrix) with random values 0 to 9\n",
        "arr4 = np.random.randint(0, 10, (3, 3))\n",
        "print(\"arr4:\\n\", arr4)\n",
        "\n",
        "# create a 3x3 2d array(matrix) where mean value is 0 with standard deviation of 1\n",
        "arr5 = np.random.normal(0, 1, (3, 3))\n",
        "print(\"arr5:\\n\", arr5)"
      ]
    },
    {
      "cell_type": "markdown",
      "metadata": {
        "id": "Ms4UdI86iNau"
      },
      "source": [
        "## Merging two array using Numpy"
      ]
    },
    {
      "cell_type": "code",
      "execution_count": 7,
      "metadata": {
        "colab": {
          "base_uri": "https://localhost:8080/",
          "height": 0
        },
        "id": "5aH-kbRViTb0",
        "outputId": "9ef76e66-565f-4948-85ee-a21c1a9fdf7d"
      },
      "outputs": [
        {
          "name": "stdout",
          "output_type": "stream",
          "text": [
            "(6,)\n",
            "[1 2 3 4 5 6]\n"
          ]
        }
      ],
      "source": [
        "arr1 = np.array([1, 2, 3])\n",
        "arr2 = np.array([4, 5, 6])\n",
        "# merge two array arr1, arr2 in a 1D array(vector)\n",
        "arr3 = np.concatenate([arr1, arr2])\n",
        "\n",
        "print(arr3.shape)\n",
        "print(arr3)"
      ]
    },
    {
      "cell_type": "markdown",
      "metadata": {
        "id": "7JNam5DLjyxa"
      },
      "source": [
        "## Using Reshape allows array to be in different shape"
      ]
    },
    {
      "cell_type": "code",
      "execution_count": 14,
      "metadata": {
        "colab": {
          "base_uri": "https://localhost:8080/",
          "height": 0
        },
        "id": "aG57LjhHkDt5",
        "outputId": "2c6c41e2-684c-4320-ca20-a813dac36dec"
      },
      "outputs": [
        {
          "name": "stdout",
          "output_type": "stream",
          "text": [
            "arr2 shape\n",
            " (2, 2)\n",
            "arr2\n",
            " [[1 2]\n",
            " [3 4]]\n"
          ]
        }
      ],
      "source": [
        "# array 1 is a 1x4 array\n",
        "arr1 = np.array([1,2,3,4])\n",
        "# using reshape to make 2x2 array\n",
        "arr2 = arr1.reshape((2,2))\n",
        "print(\"arr2 shape\\n\", arr2.shape)\n",
        "print(\"arr2\\n\", arr2)"
      ]
    },
    {
      "cell_type": "markdown",
      "metadata": {
        "id": "Om32CYBtijxT"
      },
      "source": [
        "## More example on Concatenate and Reshape"
      ]
    },
    {
      "cell_type": "code",
      "execution_count": 21,
      "metadata": {
        "colab": {
          "base_uri": "https://localhost:8080/",
          "height": 0
        },
        "id": "oTEK66Siib1r",
        "outputId": "8d919b30-e5f1-4ffc-f4db-528da0c999a5"
      },
      "outputs": [
        {
          "name": "stdout",
          "output_type": "stream",
          "text": [
            "arr1\n",
            " [[0 1 2 3]]\n",
            "arr2\n",
            " [[0 1 2 3]\n",
            " [4 5 6 7]]\n",
            "arr3\n",
            " [[0 1 2 3]\n",
            " [0 1 2 3]\n",
            " [4 5 6 7]]\n"
          ]
        }
      ],
      "source": [
        "# create a 1x4 matrix from 0 to 3\n",
        "arr1 = np.arange(4).reshape(1, 4)\n",
        "# create 2x4 matrix from 0 to 7\n",
        "arr2 = np.arange(8).reshape(2, 4)\n",
        "\n",
        "print(\"arr1\\n\", arr1)\n",
        "print(\"arr2\\n\", arr2)\n",
        "\n",
        "# merge two array\n",
        "arr3 = np.concatenate([arr1, arr2], axis=0)\n",
        "print(\"arr3\\n\", arr3)"
      ]
    },
    {
      "cell_type": "markdown",
      "metadata": {
        "id": "omwt8sClkcPR"
      },
      "source": [
        "## We can also split the array"
      ]
    },
    {
      "cell_type": "code",
      "execution_count": 20,
      "metadata": {
        "colab": {
          "base_uri": "https://localhost:8080/",
          "height": 0
        },
        "id": "ZvDPG9e0jGsZ",
        "outputId": "022714cc-4d71-4bb8-efa4-fa498b740314"
      },
      "outputs": [
        {
          "name": "stdout",
          "output_type": "stream",
          "text": [
            "arr\n",
            " [[0 1 2 3]\n",
            " [4 5 6 7]]\n",
            "left\n",
            " [[0 1]\n",
            " [4 5]]\n",
            "right\n",
            " [[2 3]\n",
            " [6 7]]\n"
          ]
        }
      ],
      "source": [
        "# create a 2x4 matrix from 0 to 7\n",
        "arr = np.arange(8).reshape(2, 4)\n",
        "print(\"arr\\n\", arr)\n",
        "\n",
        "#split the array into 2 vertically\n",
        "left, right = np.split(arr, [2], axis=1)\n",
        "\n",
        "print(\"left\\n\", left)\n",
        "print(\"right\\n\", right)\n",
        "\n"
      ]
    },
    {
      "cell_type": "code",
      "execution_count": null,
      "metadata": {
        "id": "yUMUlK5kkvWh"
      },
      "outputs": [],
      "source": []
    }
  ],
  "metadata": {
    "colab": {
      "provenance": []
    },
    "kernelspec": {
      "display_name": "Python 3",
      "name": "python3"
    },
    "language_info": {
      "name": "python",
      "version": "3.10.4"
    }
  },
  "nbformat": 4,
  "nbformat_minor": 0
}
