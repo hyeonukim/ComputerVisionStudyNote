{
  "nbformat": 4,
  "nbformat_minor": 0,
  "metadata": {
    "colab": {
      "provenance": [],
      "authorship_tag": "ABX9TyM/4FD/kJf4mwYb5Wzl+6P/",
      "include_colab_link": true
    },
    "kernelspec": {
      "name": "python3",
      "display_name": "Python 3"
    },
    "language_info": {
      "name": "python"
    }
  },
  "cells": [
    {
      "cell_type": "markdown",
      "metadata": {
        "id": "view-in-github",
        "colab_type": "text"
      },
      "source": [
        "<a href=\"https://colab.research.google.com/github/hyeonukim/DataProcessing_ImageHandling/blob/main/How_to_handle_Data%2C_and_Images(14)_KNN_Algorithm.ipynb\" target=\"_parent\"><img src=\"https://colab.research.google.com/assets/colab-badge.svg\" alt=\"Open In Colab\"/></a>"
      ]
    },
    {
      "cell_type": "markdown",
      "source": [
        "## KNN Algorithm\n",
        "\n",
        "K-Nearest Neightbor\n",
        "- KNN is one of the basic example of Unsupervised Learning\n",
        "- From a lot of different labels, it finds the nearest data and determines its own label\n"
      ],
      "metadata": {
        "id": "jMmxvMUVSoQ1"
      }
    },
    {
      "cell_type": "code",
      "execution_count": 8,
      "metadata": {
        "colab": {
          "base_uri": "https://localhost:8080/",
          "height": 485
        },
        "id": "O4ecGxK5K41T",
        "outputId": "ad924413-5880-4c62-b003-75f72891b669"
      },
      "outputs": [
        {
          "output_type": "stream",
          "name": "stdout",
          "text": [
            "result : [[0.]]\n",
            "neighbours : [[0. 0. 0.]]\n",
            "distance : [[ 65. 130. 200.]]\n"
          ]
        },
        {
          "output_type": "display_data",
          "data": {
            "text/plain": [
              "<Figure size 640x480 with 1 Axes>"
            ],
            "image/png": "[encoded data removed]"
          },
          "metadata": {}
        }
      ],
      "source": [
        "import cv2\n",
        "import numpy as np\n",
        "from matplotlib import pyplot as plt\n",
        "\n",
        "# we're going to make random 25 datas that consists of either blue square(1) or red triangle(0)\n",
        "# we're going to make green circle and see what it becomes (either 1 or 0) using KNN\n",
        "\n",
        "# make a training data with size (25x2) where its x,y coordinates are from 0 to 100\n",
        "trainData = np.random.randint(0, 100, (25, 2)).astype(np.float32)\n",
        "# randomly select every data to be either 0 or 1\n",
        "response = np.random.randint(0, 2, (25, 1)).astype(np.float32)\n",
        "\n",
        "# make the color of data that is 0 to be red\n",
        "red = trainData[response.ravel() == 0]\n",
        "plt.scatter(red[:,0], red[:,1], 80, 'r', marker='^')\n",
        "# make the color of data that is 1 to be blue\n",
        "blue = trainData[response.ravel() == 1]\n",
        "plt.scatter(blue[:,0], blue[:,1], 80, 'b', marker='s')\n",
        "\n",
        "# make a new data(green circle) and make its x,y coordinate from 0  to 100 randomly\n",
        "newcomer = np.random.randint(0, 100, (1,2)).astype(np.float32)\n",
        "plt.scatter(newcomer[:,0], newcomer[:,1], 80, 'g', marker='o')\n",
        "\n",
        "knn = cv2.ml.KNearest_create()\n",
        "knn.train(trainData, cv2.ml.ROW_SAMPLE, response)\n",
        "ret, results, neighbours, dist = knn.findNearest(newcomer, 3)\n",
        "\n",
        "print(\"result :\", results)\n",
        "print(\"neighbours :\", neighbours)\n",
        "print(\"distance :\", dist)\n",
        "\n",
        "plt.show()"
      ]
    },
    {
      "cell_type": "markdown",
      "source": [
        "From the result above, we can see that the green circle will be labeled as [0] meaning it'll be red triangle\n",
        "\n",
        "The neighbours show that all 3 nearest neighbors are [0]\n",
        "\n",
        "And each of the distance are [65, 130, 200]"
      ],
      "metadata": {
        "id": "WElUG90MWb5Q"
      }
    },
    {
      "cell_type": "code",
      "source": [],
      "metadata": {
        "id": "vKd3nIQ8VUbY"
      },
      "execution_count": null,
      "outputs": []
    }
  ]
}