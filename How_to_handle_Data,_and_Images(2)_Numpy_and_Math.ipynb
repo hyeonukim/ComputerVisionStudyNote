{
  "nbformat": 4,
  "nbformat_minor": 0,
  "metadata": {
    "colab": {
      "provenance": [],
      "authorship_tag": "ABX9TyOS7PJM7h+Vbcq1AlKWje9g",
      "include_colab_link": true
    },
    "kernelspec": {
      "name": "python3",
      "display_name": "Python 3"
    },
    "language_info": {
      "name": "python"
    }
  },
  "cells": [
    {
      "cell_type": "markdown",
      "metadata": {
        "id": "view-in-github",
        "colab_type": "text"
      },
      "source": [
        "<a href=\"https://colab.research.google.com/github/hyeonukim/DataProcessing_ImageHandling/blob/main/How_to_handle_Data%2C_and_Images(2)_Numpy_and_Math.ipynb\" target=\"_parent\"><img src=\"https://colab.research.google.com/assets/colab-badge.svg\" alt=\"Open In Colab\"/></a>"
      ]
    },
    {
      "cell_type": "markdown",
      "source": [
        "## Numpy's operation and functions"
      ],
      "metadata": {
        "id": "a5HGjxI3A9hx"
      }
    },
    {
      "cell_type": "markdown",
      "source": [
        "### Python's Numpy library can do basic operations"
      ],
      "metadata": {
        "id": "h_2LY7ihDxb6"
      }
    },
    {
      "cell_type": "code",
      "source": [
        "import numpy as np\n",
        "\n",
        "# create a 2 x 2 array from random integer 1 to 10\n",
        "arr = np.random.randint(1, 10, size=4).reshape(2, 2)\n",
        "print(\"arr\\n\", arr)\n",
        "\n",
        "# arr * 10\n",
        "arr_10 = arr*10\n",
        "print(\"arr * 10\\n\", arr_10)"
      ],
      "metadata": {
        "colab": {
          "base_uri": "https://localhost:8080/"
        },
        "id": "aCeetSwlD3Up",
        "outputId": "947f3edd-ac04-4e6c-ee42-6a14f967706f"
      },
      "execution_count": 1,
      "outputs": [
        {
          "output_type": "stream",
          "name": "stdout",
          "text": [
            "arr\n",
            " [[2 7]\n",
            " [7 4]]\n",
            "arr * 10\n",
            " [[20 70]\n",
            " [70 40]]\n"
          ]
        }
      ]
    },
    {
      "cell_type": "markdown",
      "source": [
        "### We can also use operations on Numpy arrays"
      ],
      "metadata": {
        "id": "aqIVvCHWEPaL"
      }
    },
    {
      "cell_type": "code",
      "source": [
        "# create a 2 x 2 array [[0,1]\n",
        "#                       [2,3]]\n",
        "arr1 = np.arange(4).reshape(2,2)\n",
        "\n",
        "# create a 1 x 2 array [0, 1]\n",
        "arr2 = np.arange(2)\n",
        "\n",
        "# adding arr1 + arr2\n",
        "arr3 = arr1 + arr2\n",
        "\n",
        "print(arr3)"
      ],
      "metadata": {
        "colab": {
          "base_uri": "https://localhost:8080/"
        },
        "id": "XwPgsdY3EqLQ",
        "outputId": "ddd2f3fb-1b11-4411-c64d-d7a64c7bca9a"
      },
      "execution_count": 3,
      "outputs": [
        {
          "output_type": "stream",
          "name": "stdout",
          "text": [
            "[[0 2]\n",
            " [2 4]]\n"
          ]
        }
      ]
    },
    {
      "cell_type": "code",
      "source": [
        "# create a 2 x 4 array [[0, 1, 2, 3]\n",
        "#                       [4, 5, 6, 7]]\n",
        "arr1 = np.arange(0, 8).reshape(2, 4)\n",
        "\n",
        "# create a 2 x 4 array [[0, 1, 2, 3]\n",
        "#                       [4, 5, 6, 7]]\n",
        "arr2 = np.arange(0, 8).reshape(2, 4)\n",
        "\n",
        "# merge arr1, arr2 [[0, 1, 2, 3]\n",
        "#                   [4, 5, 6, 7]\n",
        "#                   [0, 1, 2, 3]\n",
        "#                   [4, 5, 6, 7]]\n",
        "arr3 = np.concatenate([arr1, arr2], axis=0)\n",
        "\n",
        "# create a 4 x 1 array [[0]\n",
        "#                       [1]\n",
        "#                       [2]\n",
        "#                       [3]]\n",
        "arr4 = np.arange(0, 4).reshape(4, 1)\n",
        "\n",
        "# adding arr3 and arr4\n",
        "print(arr3 + arr4)"
      ],
      "metadata": {
        "colab": {
          "base_uri": "https://localhost:8080/"
        },
        "id": "E0bF6i58E-Sk",
        "outputId": "c34c754a-db82-4348-f095-440d83f20dad"
      },
      "execution_count": 5,
      "outputs": [
        {
          "output_type": "stream",
          "name": "stdout",
          "text": [
            "[[ 0  1  2  3]\n",
            " [ 5  6  7  8]\n",
            " [ 2  3  4  5]\n",
            " [ 7  8  9 10]]\n"
          ]
        }
      ]
    },
    {
      "cell_type": "markdown",
      "source": [
        "### Using Numpy's masking operation"
      ],
      "metadata": {
        "id": "u2MOnYbuF4dI"
      }
    },
    {
      "cell_type": "code",
      "source": [
        "# Instead of using for loop to change value of elements,\n",
        "# we can use Numpy, which is much faster\n",
        "# It is mostly used in Image processing\n",
        "\n",
        "# create a 4 x 4 array with elements 0-15\n",
        "arr1 = np.arange(16).reshape(4, 4)\n",
        "print(\"arr1\\n\", arr1)\n",
        "\n",
        "# changes elements to boolean that are less than 10 to True else False\n",
        "arr2 = arr1 < 10\n",
        "print(\"arr2\\n\", arr2)\n",
        "\n",
        "# changes elements that are true from arr2 to 100\n",
        "arr1[arr2] = 100\n",
        "print(\"arr1\\n\", arr1)"
      ],
      "metadata": {
        "colab": {
          "base_uri": "https://localhost:8080/"
        },
        "id": "NzfoSIkJF-P1",
        "outputId": "42e6de4e-6efc-40cd-d610-09e86ef87429"
      },
      "execution_count": 6,
      "outputs": [
        {
          "output_type": "stream",
          "name": "stdout",
          "text": [
            "arr1\n",
            " [[ 0  1  2  3]\n",
            " [ 4  5  6  7]\n",
            " [ 8  9 10 11]\n",
            " [12 13 14 15]]\n",
            "arr2\n",
            " [[ True  True  True  True]\n",
            " [ True  True  True  True]\n",
            " [ True  True False False]\n",
            " [False False False False]]\n",
            "arr1\n",
            " [[100 100 100 100]\n",
            " [100 100 100 100]\n",
            " [100 100  10  11]\n",
            " [ 12  13  14  15]]\n"
          ]
        }
      ]
    },
    {
      "cell_type": "markdown",
      "source": [
        "### Numpy's statistical functions"
      ],
      "metadata": {
        "id": "3ZOo35G5OnFB"
      }
    },
    {
      "cell_type": "code",
      "source": [
        "# create a 4 x 4 array from 0-15\n",
        "arr = np.arange(16).reshape(4,4)\n",
        "\n",
        "print(\"Max value:\", np.max(arr))\n",
        "print(\"Min value:\", np.min(arr))\n",
        "print(\"Summation:\", np.sum(arr))\n",
        "print(\"Average value:\", np.mean(arr))"
      ],
      "metadata": {
        "colab": {
          "base_uri": "https://localhost:8080/"
        },
        "id": "siB11JS8Ordm",
        "outputId": "107e03b9-bf23-4ec8-c5eb-e5ec63bec4bc"
      },
      "execution_count": 7,
      "outputs": [
        {
          "output_type": "stream",
          "name": "stdout",
          "text": [
            "Max value: 15\n",
            "Min value: 0\n",
            "Summation: 120\n",
            "Average value: 7.5\n"
          ]
        }
      ]
    },
    {
      "cell_type": "code",
      "source": [
        "# create a 4 x 4 array from 0-15\n",
        "arr = np.arange(16).reshape(4,4)\n",
        "\n",
        "print(arr)\n",
        "print(\"Sum of each column:\", np.sum(arr, axis=0))\n",
        "print(\"Sum of each row:\", np.sum(arr, axis=1))"
      ],
      "metadata": {
        "colab": {
          "base_uri": "https://localhost:8080/"
        },
        "id": "sr_sOXG1O_IG",
        "outputId": "f832d137-fcc2-4979-f5eb-6c2ec2cbf569"
      },
      "execution_count": 12,
      "outputs": [
        {
          "output_type": "stream",
          "name": "stdout",
          "text": [
            "[[ 0  1  2  3]\n",
            " [ 4  5  6  7]\n",
            " [ 8  9 10 11]\n",
            " [12 13 14 15]]\n",
            "Sum of each column: [24 28 32 36]\n",
            "Sum of each row: [ 6 22 38 54]\n"
          ]
        }
      ]
    },
    {
      "cell_type": "code",
      "source": [],
      "metadata": {
        "id": "RaDDJ2j1PZdF"
      },
      "execution_count": null,
      "outputs": []
    }
  ]
}