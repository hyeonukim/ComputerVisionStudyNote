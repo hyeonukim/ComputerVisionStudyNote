{
  "nbformat": 4,
  "nbformat_minor": 0,
  "metadata": {
    "colab": {
      "provenance": [],
      "authorship_tag": "ABX9TyMEQ6s/tG9nsyK64J+MKjac",
      "include_colab_link": true
    },
    "kernelspec": {
      "name": "python3",
      "display_name": "Python 3"
    },
    "language_info": {
      "name": "python"
    }
  },
  "cells": [
    {
      "cell_type": "markdown",
      "metadata": {
        "id": "view-in-github",
        "colab_type": "text"
      },
      "source": [
        "<a href=\"https://colab.research.google.com/github/hyeonukim/DataProcessing_ImageHandling/blob/main/How_to_handle_Data%2C_and_Images(17)_Pandas_Operation_and_Functions.ipynb\" target=\"_parent\"><img src=\"https://colab.research.google.com/assets/colab-badge.svg\" alt=\"Open In Colab\"/></a>"
      ]
    },
    {
      "cell_type": "markdown",
      "source": [
        "## Dealing with Null values\n",
        "- **pd.DataFrame.notnull**: Detect existing (non-missing) values.\n",
        "- **pd.DataFrame.isnull**: Detect missing values.\n",
        "- **pd.DataFrame.fillna**: Fill NA/NaN values using the specified method.\n"
      ],
      "metadata": {
        "id": "OpGPA5b6C0xh"
      }
    },
    {
      "cell_type": "code",
      "source": [
        "import pandas as pd\n",
        "import numpy as np\n",
        "\n",
        "price_dict = {\n",
        "    'Apple': 1.5,\n",
        "    'Banana': 2,\n",
        "    'Carrot': np.nan,\n",
        "    'Durian': 5\n",
        "}\n",
        "amount_dict = {\n",
        "    'Apple': 3,\n",
        "    'Banana': 2,\n",
        "    'Carrot': 3,\n",
        "    'Durian': 4\n",
        "}\n",
        "\n",
        "# convert dictionary into Pandas' Series\n",
        "price = pd.Series(price_dict)\n",
        "amount = pd.Series(amount_dict)\n",
        "\n",
        "# Merge two Series into Data Frame\n",
        "summary = pd.DataFrame({\n",
        "    'Price(Dollar)': price,\n",
        "    'Amount': amount\n",
        "})\n",
        "\n",
        "print(summary)\n",
        "print(summary.notnull())\n",
        "print(summary.isnull())\n",
        "\n",
        "# fill the NaN value with 'No Data'\n",
        "summary['Price(Dollar)'] = summary['Price(Dollar)'].fillna('No Data')\n",
        "print(summary)"
      ],
      "metadata": {
        "colab": {
          "base_uri": "https://localhost:8080/"
        },
        "id": "_rBhgoivDGRI",
        "outputId": "acb1cf7a-9a7b-4c8c-8db0-3223cf7cf7ee"
      },
      "execution_count": null,
      "outputs": [
        {
          "output_type": "stream",
          "name": "stdout",
          "text": [
            "        Price(Dollar)  Amount\n",
            "Apple             1.5       3\n",
            "Banana            2.0       2\n",
            "Carrot            NaN       3\n",
            "Durian            5.0       4\n",
            "        Price(Dollar)  Amount\n",
            "Apple            True    True\n",
            "Banana           True    True\n",
            "Carrot          False    True\n",
            "Durian           True    True\n",
            "        Price(Dollar)  Amount\n",
            "Apple           False   False\n",
            "Banana          False   False\n",
            "Carrot           True   False\n",
            "Durian          False   False\n",
            "       Price(Dollar)  Amount\n",
            "Apple            1.5       3\n",
            "Banana           2.0       2\n",
            "Carrot       No Data       3\n",
            "Durian           5.0       4\n"
          ]
        }
      ]
    },
    {
      "cell_type": "markdown",
      "source": [
        "## Series Operation"
      ],
      "metadata": {
        "id": "ickkOKpYEBaV"
      }
    },
    {
      "cell_type": "code",
      "source": [
        "import pandas as pd\n",
        "\n",
        "arr1 = pd.Series([1,2,3], index=['A', 'B', 'C'])\n",
        "arr2 = pd.Series([4,5,6], index=['B', 'C', 'D'])\n",
        "\n",
        "# adds values by key\n",
        "arr = arr1.add(arr2, fill_value=0)\n",
        "print(arr)"
      ],
      "metadata": {
        "id": "UsY4xTQBDpq7",
        "colab": {
          "base_uri": "https://localhost:8080/"
        },
        "outputId": "27b9e4f0-2f31-468a-a78f-7bac297eb592"
      },
      "execution_count": 5,
      "outputs": [
        {
          "output_type": "stream",
          "name": "stdout",
          "text": [
            "A    1.0\n",
            "B    6.0\n",
            "C    8.0\n",
            "D    6.0\n",
            "dtype: float64\n"
          ]
        }
      ]
    },
    {
      "cell_type": "markdown",
      "source": [
        "## Data Frame's math operation\n",
        "\n",
        "|     | Score1 | Score2 |   |         | Score1 |   |         | Score1 | Score2 |\n",
        "|-----|--------|--------|---|---------|--------|---|---------|--------|--------|\n",
        "| Tom | 8      | 5      | + | Tom     | 5      | = | Tom     | 13     | 5      |\n",
        "| Bob | 9      | 7      | + | Bob     | 7      | = | Bob     | 16     | 7      |\n",
        "|     |        |        | + | Charles | 8      | = | Charles | 8      | Null   |"
      ],
      "metadata": {
        "id": "Rjwnt37bJfs0"
      }
    },
    {
      "cell_type": "code",
      "source": [
        "import pandas as pd\n",
        "\n",
        "arr1 = pd.DataFrame([[1,2], [3,4]], index=['a', 'b'])\n",
        "arr2 = pd.DataFrame([[1,2,3],[4,5,6],[7,8,9]], index = ['b', 'c', 'd'])\n",
        "\n",
        "print(arr1,'\\n')\n",
        "print(arr2,'\\n')\n",
        "\n",
        "arr = arr1.add(arr2, fill_value=0)\n",
        "print(arr)"
      ],
      "metadata": {
        "colab": {
          "base_uri": "https://localhost:8080/"
        },
        "id": "AI-Qcxp3JWPF",
        "outputId": "0a32a641-f863-4095-a769-8420daea846b"
      },
      "execution_count": 8,
      "outputs": [
        {
          "output_type": "stream",
          "name": "stdout",
          "text": [
            "   0  1\n",
            "a  1  2\n",
            "b  3  4 \n",
            "\n",
            "   0  1  2\n",
            "b  1  2  3\n",
            "c  4  5  6\n",
            "d  7  8  9 \n",
            "\n",
            "     0    1    2\n",
            "a  1.0  2.0  NaN\n",
            "b  4.0  6.0  3.0\n",
            "c  4.0  5.0  6.0\n",
            "d  7.0  8.0  9.0\n"
          ]
        }
      ]
    },
    {
      "cell_type": "markdown",
      "source": [
        "## Data Frame's Sum\n",
        "- **pd.DataFrame.sum**: Return the sum of the values over the requested axis.\n",
        "\n"
      ],
      "metadata": {
        "id": "pZsvV4azK8zd"
      }
    },
    {
      "cell_type": "code",
      "source": [
        "import pandas as pd\n",
        "\n",
        "arr1 = pd.DataFrame([[1,2], [3,4]], index=['a', 'b'])\n",
        "arr2 = pd.DataFrame([[1,2,3],[4,5,6],[7,8,9]], index = ['b', 'c', 'd'])\n",
        "\n",
        "arr = arr1.add(arr2, fill_value=0)\n",
        "print(arr, '\\n')\n",
        "print('sum of column1:', arr[1].sum(), '\\n')\n",
        "print(arr.sum())"
      ],
      "metadata": {
        "colab": {
          "base_uri": "https://localhost:8080/"
        },
        "id": "wKvB2xy5K158",
        "outputId": "7e1cb97b-950d-4282-a3af-35c0440513ce"
      },
      "execution_count": 11,
      "outputs": [
        {
          "output_type": "stream",
          "name": "stdout",
          "text": [
            "     0    1    2\n",
            "a  1.0  2.0  NaN\n",
            "b  4.0  6.0  3.0\n",
            "c  4.0  5.0  6.0\n",
            "d  7.0  8.0  9.0 \n",
            "\n",
            "sum of column1: 21.0 \n",
            "\n",
            "0    16.0\n",
            "1    21.0\n",
            "2    18.0\n",
            "dtype: float64\n"
          ]
        }
      ]
    },
    {
      "cell_type": "markdown",
      "source": [
        "## Data Frame' sorting function\n",
        "- **pd.DataFrame.sort_values**: Sort by the values along either axis."
      ],
      "metadata": {
        "id": "hER90G7jLbLo"
      }
    },
    {
      "cell_type": "code",
      "source": [
        "import pandas as pd\n",
        "import numpy as np\n",
        "\n",
        "price_dict = {\n",
        "    'Apple': 1.5,\n",
        "    'Banana': 2,\n",
        "    'Carrot': 1,\n",
        "    'Durian': 5\n",
        "}\n",
        "amount_dict = {\n",
        "    'Apple': 3,\n",
        "    'Banana': 2,\n",
        "    'Carrot': 3,\n",
        "    'Durian': 4\n",
        "}\n",
        "\n",
        "# convert dictionary into Pandas' Series\n",
        "price = pd.Series(price_dict)\n",
        "amount = pd.Series(amount_dict)\n",
        "\n",
        "# Merge two Series into Data Frame\n",
        "summary = pd.DataFrame({\n",
        "    'Price(Dollar)': price,\n",
        "    'Amount': amount\n",
        "})\n",
        "\n",
        "print(summary)\n",
        "\n",
        "summary = summary.sort_values('Price(Dollar)', ascending=False)\n",
        "print(summary)"
      ],
      "metadata": {
        "colab": {
          "base_uri": "https://localhost:8080/"
        },
        "id": "Kc_6xiBKLJro",
        "outputId": "15b16e2e-d62b-4935-c2c5-8dc7239b1efd"
      },
      "execution_count": 13,
      "outputs": [
        {
          "output_type": "stream",
          "name": "stdout",
          "text": [
            "        Price(Dollar)  Amount\n",
            "Apple             1.5       3\n",
            "Banana            2.0       2\n",
            "Carrot            1.0       3\n",
            "Durian            5.0       4\n",
            "        Price(Dollar)  Amount\n",
            "Durian            5.0       4\n",
            "Banana            2.0       2\n",
            "Apple             1.5       3\n",
            "Carrot            1.0       3\n"
          ]
        }
      ]
    },
    {
      "cell_type": "code",
      "source": [],
      "metadata": {
        "id": "d3D5afv8L_yd"
      },
      "execution_count": null,
      "outputs": []
    }
  ]
}